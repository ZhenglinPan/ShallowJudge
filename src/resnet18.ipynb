{
 "cells": [
  {
   "cell_type": "code",
   "execution_count": 20,
   "metadata": {},
   "outputs": [
    {
     "data": {
      "text/plain": [
       "True"
      ]
     },
     "execution_count": 20,
     "metadata": {},
     "output_type": "execute_result"
    }
   ],
   "source": [
    "import torch\n",
    "from torchvision.datasets import CIFAR10\n",
    "from torch.utils.data import DataLoader\n",
    "from torchvision.transforms import transforms\n",
    "\n",
    "import numpy as np\n",
    "from tqdm import tqdm\n",
    "\n",
    "from resnet import ResNet18\n",
    "\n",
    "device = torch.device(\"cuda\" if torch.cuda.is_available() else \"cpu\")\n",
    "\n",
    "torch.cuda.is_available()"
   ]
  },
  {
   "cell_type": "code",
   "execution_count": 38,
   "metadata": {},
   "outputs": [
    {
     "name": "stdout",
     "output_type": "stream",
     "text": [
      "Files already downloaded and verified\n",
      "Files already downloaded and verified\n"
     ]
    }
   ],
   "source": [
    "CIFAR10_TRAIN_MEAN = (0.49139968, 0.48215827, 0.44653124)\n",
    "CIFAR10_TRAIN_STD = (0.24703233, 0.24348505, 0.26158768)\n",
    "\n",
    "BATCH_SIZE = 1\n",
    "\n",
    "mean = CIFAR10_TRAIN_MEAN\n",
    "std = CIFAR10_TRAIN_STD\n",
    "\n",
    "train_transformer = transforms.Compose([\n",
    "transforms.ToTensor(),\n",
    "transforms.Normalize(mean, std)\n",
    "])\n",
    "\n",
    "test_transformer = transforms.Compose([\n",
    "transforms.ToTensor(),\n",
    "transforms.Normalize(mean, std)\n",
    "])\n",
    "\n",
    "train_ds = CIFAR10(root='../datasets', train=True, download=True, transform=train_transformer)\n",
    "test_ds = CIFAR10(root='../datasets', train=False, download=True, transform=test_transformer)\n",
    "LEN_TRAIN = len(train_ds)\n",
    "LEN_TEST = len(test_ds)\n",
    "classes = 10\n",
    "\n",
    "train_loader = DataLoader(train_ds, batch_size=BATCH_SIZE, shuffle=True)\n",
    "test_loader = DataLoader(test_ds, batch_size=BATCH_SIZE, shuffle=False)"
   ]
  },
  {
   "cell_type": "code",
   "execution_count": 39,
   "metadata": {},
   "outputs": [
    {
     "data": {
      "text/plain": [
       "<All keys matched successfully>"
      ]
     },
     "execution_count": 39,
     "metadata": {},
     "output_type": "execute_result"
    }
   ],
   "source": [
    "model = ResNet18(classes = classes).to(device)\n",
    "model.to(device)\n",
    "model.load_state_dict(torch.load('../models/epoch39_train0.98982_test0.9154.pt'))"
   ]
  },
  {
   "cell_type": "code",
   "execution_count": 40,
   "metadata": {},
   "outputs": [],
   "source": [
    "for param in model.parameters():\n",
    "    param.requires_grad = False"
   ]
  },
  {
   "cell_type": "code",
   "execution_count": 41,
   "metadata": {},
   "outputs": [
    {
     "name": "stdout",
     "output_type": "stream",
     "text": [
      "11,173,962 total parameters.\n",
      "0 training parameters.\n"
     ]
    }
   ],
   "source": [
    "total_params = sum(p.numel() for p in model.parameters())\n",
    "print(f\"{total_params:,} total parameters.\")\n",
    "total_trainable_params = sum(\n",
    "    p.numel() for p in model.parameters() if p.requires_grad)\n",
    "print(f\"{total_trainable_params:,} training parameters.\")"
   ]
  },
  {
   "cell_type": "code",
   "execution_count": 42,
   "metadata": {},
   "outputs": [],
   "source": [
    "activation = {}\n",
    "def get_activation(name):\n",
    "    def hook(model, input, output):\n",
    "        activation[name] = output.detach()\n",
    "    return hook"
   ]
  },
  {
   "cell_type": "code",
   "execution_count": 47,
   "metadata": {},
   "outputs": [
    {
     "name": "stderr",
     "output_type": "stream",
     "text": [
      "  0%|          | 0/50000 [00:00<?, ?batch/s]"
     ]
    },
    {
     "name": "stdout",
     "output_type": "stream",
     "text": [
      "1\n"
     ]
    },
    {
     "name": "stderr",
     "output_type": "stream",
     "text": [
      "\n"
     ]
    }
   ],
   "source": [
    "test_acc = 0\n",
    "with tqdm(train_loader, unit=\"batch\") as tepoch:\n",
    "    for xtrain, ytrain in tepoch:       \n",
    "        xtrain = xtrain.to(device)\n",
    "        \n",
    "        model.bn1.register_forward_hook(get_activation('bn1'))\n",
    "        output = model(xtrain)\n",
    "        features = activation['bn1'].cpu().detach().numpy()\n",
    "        \n",
    "        test_pred = torch.max(output.cpu(),1).indices\n",
    "        test_acc += int(torch.sum(test_pred == ytrain))\n",
    "\n",
    "        print(test_acc)\n",
    "        break"
   ]
  },
  {
   "cell_type": "code",
   "execution_count": null,
   "metadata": {},
   "outputs": [],
   "source": []
  },
  {
   "cell_type": "code",
   "execution_count": null,
   "metadata": {},
   "outputs": [],
   "source": []
  }
 ],
 "metadata": {
  "kernelspec": {
   "display_name": "Python 3",
   "language": "python",
   "name": "python3"
  },
  "language_info": {
   "codemirror_mode": {
    "name": "ipython",
    "version": 3
   },
   "file_extension": ".py",
   "mimetype": "text/x-python",
   "name": "python",
   "nbconvert_exporter": "python",
   "pygments_lexer": "ipython3",
   "version": "3.10.6"
  },
  "orig_nbformat": 4
 },
 "nbformat": 4,
 "nbformat_minor": 2
}
